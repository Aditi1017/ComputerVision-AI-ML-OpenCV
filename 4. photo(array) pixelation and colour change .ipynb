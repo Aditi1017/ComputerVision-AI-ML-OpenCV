{
 "cells": [
  {
   "cell_type": "code",
   "execution_count": 7,
   "metadata": {},
   "outputs": [],
   "source": [
    "import cv2 \n",
    "import numpy\n",
    "\n",
    "cap = cv2.VideoCapture(0)\n",
    "status, photo = cap.read()\n",
    "status\n",
    "cv2.imwrite('new.png',photo)\n",
    "cap.release()\n",
    "\n",
    "cv2.imshow('my image',photo)\n",
    "cv2.waitKey()\n",
    "cv2.destroyAllWindows()\n"
   ]
  },
  {
   "cell_type": "code",
   "execution_count": 8,
   "metadata": {},
   "outputs": [
    {
     "data": {
      "text/plain": [
       "numpy.ndarray"
      ]
     },
     "execution_count": 8,
     "metadata": {},
     "output_type": "execute_result"
    }
   ],
   "source": [
    "type(photo)"
   ]
  },
  {
   "cell_type": "code",
   "execution_count": 9,
   "metadata": {},
   "outputs": [
    {
     "data": {
      "text/plain": [
       "array([[[14, 20, 15],\n",
       "        [16, 21, 16],\n",
       "        [20, 22, 13],\n",
       "        ...,\n",
       "        [53, 41, 37],\n",
       "        [68, 37, 43],\n",
       "        [64, 33, 38]],\n",
       "\n",
       "       [[21, 21, 11],\n",
       "        [22, 22, 13],\n",
       "        [22, 23,  7],\n",
       "        ...,\n",
       "        [60, 39, 41],\n",
       "        [58, 35, 37],\n",
       "        [60, 36, 38]],\n",
       "\n",
       "       [[19, 21, 11],\n",
       "        [17, 20, 10],\n",
       "        [26, 16,  8],\n",
       "        ...,\n",
       "        [60, 40, 35],\n",
       "        [56, 37, 30],\n",
       "        [54, 35, 28]],\n",
       "\n",
       "       ...,\n",
       "\n",
       "       [[26, 19,  0],\n",
       "        [25, 18,  0],\n",
       "        [21, 17,  0],\n",
       "        ...,\n",
       "        [ 6, 16,  6],\n",
       "        [ 6, 17,  7],\n",
       "        [ 3, 15,  4]],\n",
       "\n",
       "       [[17, 18,  0],\n",
       "        [17, 18,  0],\n",
       "        [16, 15,  0],\n",
       "        ...,\n",
       "        [ 6, 17,  7],\n",
       "        [ 8, 17,  7],\n",
       "        [ 3, 12,  2]],\n",
       "\n",
       "       [[21, 16,  0],\n",
       "        [21, 16,  0],\n",
       "        [21, 16,  0],\n",
       "        ...,\n",
       "        [ 4, 16,  6],\n",
       "        [ 3, 15,  4],\n",
       "        [ 2, 13,  3]]], dtype=uint8)"
      ]
     },
     "execution_count": 9,
     "metadata": {},
     "output_type": "execute_result"
    }
   ],
   "source": [
    "photo"
   ]
  },
  {
   "cell_type": "code",
   "execution_count": 10,
   "metadata": {},
   "outputs": [
    {
     "data": {
      "text/plain": [
       "(480, 640, 3)"
      ]
     },
     "execution_count": 10,
     "metadata": {},
     "output_type": "execute_result"
    }
   ],
   "source": [
    "photo.shape\n",
    "\n",
    "#here 480 and 640 are dimensions and 3 is RGB colours"
   ]
  },
  {
   "cell_type": "code",
   "execution_count": 11,
   "metadata": {},
   "outputs": [
    {
     "data": {
      "text/plain": [
       "array([90, 43, 11], dtype=uint8)"
      ]
     },
     "execution_count": 11,
     "metadata": {},
     "output_type": "execute_result"
    }
   ],
   "source": [
    "photo[200][10]\n",
    "\n",
    "#to print row 200 and col 10 of the image"
   ]
  },
  {
   "cell_type": "code",
   "execution_count": 12,
   "metadata": {},
   "outputs": [],
   "source": [
    "photo[200][10]= [0,255,0]\n",
    "\n",
    "#we are changing the colour of this perticular location to r=0,G=255,b=0\n",
    "#hence this perticlar pixel will become green"
   ]
  },
  {
   "cell_type": "code",
   "execution_count": 14,
   "metadata": {},
   "outputs": [],
   "source": [
    "#checking \n",
    "#there is green pixel in left  middle of the screen \n",
    "\n",
    "cv2.imshow('my image',photo)\n",
    "cv2.waitKey()\n",
    "cv2.destroyAllWindows()\n",
    "\n",
    "\n",
    "#this is called editing of img"
   ]
  },
  {
   "cell_type": "code",
   "execution_count": 15,
   "metadata": {},
   "outputs": [],
   "source": [
    "photo[200] = [0,255,0]\n",
    "\n",
    "#here we are changing the colour of complete 200th row to green"
   ]
  },
  {
   "cell_type": "code",
   "execution_count": 16,
   "metadata": {},
   "outputs": [],
   "source": [
    "#checking\n",
    "\n",
    "cv2.imshow('my image',photo)\n",
    "cv2.waitKey()\n",
    "cv2.destroyAllWindows()"
   ]
  },
  {
   "cell_type": "code",
   "execution_count": 17,
   "metadata": {},
   "outputs": [],
   "source": [
    "photo[200:300]=[0,255,0]\n",
    "\n",
    "#changing colour of row from 200 to 300 "
   ]
  },
  {
   "cell_type": "code",
   "execution_count": 18,
   "metadata": {},
   "outputs": [],
   "source": [
    "#checking\n",
    "\n",
    "cv2.imshow('my image',photo)\n",
    "cv2.waitKey()\n",
    "cv2.destroyAllWindows()"
   ]
  },
  {
   "cell_type": "code",
   "execution_count": null,
   "metadata": {},
   "outputs": [],
   "source": []
  }
 ],
 "metadata": {
  "kernelspec": {
   "display_name": "Python 3",
   "language": "python",
   "name": "python3"
  },
  "language_info": {
   "codemirror_mode": {
    "name": "ipython",
    "version": 3
   },
   "file_extension": ".py",
   "mimetype": "text/x-python",
   "name": "python",
   "nbconvert_exporter": "python",
   "pygments_lexer": "ipython3",
   "version": "3.7.0"
  }
 },
 "nbformat": 4,
 "nbformat_minor": 2
}
