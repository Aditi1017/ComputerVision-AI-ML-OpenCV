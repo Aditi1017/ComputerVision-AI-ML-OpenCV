{
 "cells": [
  {
   "cell_type": "code",
   "execution_count": 1,
   "metadata": {},
   "outputs": [],
   "source": [
    "import cv2"
   ]
  },
  {
   "cell_type": "code",
   "execution_count": 2,
   "metadata": {},
   "outputs": [],
   "source": [
    "cap = cv2.VideoCapture(0)"
   ]
  },
  {
   "cell_type": "code",
   "execution_count": 3,
   "metadata": {},
   "outputs": [],
   "source": [
    "face_model = cv2.CascadeClassifier('haarcascade_frontalface_default.xml')"
   ]
  },
  {
   "cell_type": "code",
   "execution_count": 4,
   "metadata": {},
   "outputs": [
    {
     "ename": "SyntaxError",
     "evalue": "invalid syntax (<ipython-input-4-b58c09b1f6ad>, line 9)",
     "output_type": "error",
     "traceback": [
      "\u001b[1;36m  File \u001b[1;32m\"<ipython-input-4-b58c09b1f6ad>\"\u001b[1;36m, line \u001b[1;32m9\u001b[0m\n\u001b[1;33m    y1 = face_cor0][1]     #these coordinates will help us to draw a square around the face\u001b[0m\n\u001b[1;37m                  ^\u001b[0m\n\u001b[1;31mSyntaxError\u001b[0m\u001b[1;31m:\u001b[0m invalid syntax\n"
     ]
    }
   ],
   "source": [
    "while True:\n",
    "    status, photo = cap.read()\n",
    "    face_cor = face_model.detectMultiScale(photo)\n",
    "    \n",
    "    if len(face_cor) == 0:\n",
    "        pass                    #no face detected\n",
    "    else:\n",
    "        x1 = face_cor[0][0]     #face_cor will give us list of coordinates of face eg(200,50,200,250) where the coordinates are (200,50) and (400,300) \n",
    "        y1 = face_cor0][1]     #these coordinates will help us to draw a square around the face\n",
    "        x2 = x1 + face_cor[0][2]\n",
    "        y2 = y1 + face_cor[0][3]\n",
    "        \n",
    "        photo = cv2.rectangle(photo, (x1,y1), (x2,y2), [0,255,0], 3) #create rectagle of green color and width 3 with the x1,y1 x2,y2 coordinates on photo \n",
    "        \n",
    "        cv2.imshow(\"face\", photo)\n",
    "        if cv2.waitKey(10) == 13:\n",
    "            break\n",
    "        \n",
    "cv2.destroyAllWindows()\n",
    "cap.release()\n",
    "        \n",
    "        "
   ]
  },
  {
   "cell_type": "code",
   "execution_count": null,
   "metadata": {},
   "outputs": [],
   "source": [
    "status, photo = cap.read()"
   ]
  },
  {
   "cell_type": "code",
   "execution_count": null,
   "metadata": {},
   "outputs": [],
   "source": [
    "face_cor = face_model.detectMultiScale(photo)"
   ]
  },
  {
   "cell_type": "code",
   "execution_count": null,
   "metadata": {},
   "outputs": [],
   "source": [
    "face_cor"
   ]
  },
  {
   "cell_type": "code",
   "execution_count": null,
   "metadata": {},
   "outputs": [],
   "source": []
  },
  {
   "cell_type": "code",
   "execution_count": null,
   "metadata": {},
   "outputs": [],
   "source": []
  }
 ],
 "metadata": {
  "kernelspec": {
   "display_name": "Python 3",
   "language": "python",
   "name": "python3"
  },
  "language_info": {
   "codemirror_mode": {
    "name": "ipython",
    "version": 3
   },
   "file_extension": ".py",
   "mimetype": "text/x-python",
   "name": "python",
   "nbconvert_exporter": "python",
   "pygments_lexer": "ipython3",
   "version": "3.7.0"
  }
 },
 "nbformat": 4,
 "nbformat_minor": 2
}
